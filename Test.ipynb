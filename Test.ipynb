{
 "cells": [
  {
   "cell_type": "code",
   "execution_count": 31,
   "metadata": {
    "collapsed": true
   },
   "outputs": [
    {
     "name": "stderr",
     "output_type": "stream",
     "text": [
      "IOPub data rate exceeded.\nThe notebook server will temporarily stop sending output\nto the client in order to avoid crashing it.\nTo change this limit, set the config variable\n`--NotebookApp.iopub_data_rate_limit`.\n\nCurrent values:\nNotebookApp.iopub_data_rate_limit=1000000.0 (bytes/sec)\nNotebookApp.rate_limit_window=3.0 (secs)\n\n"
     ]
    }
   ],
   "source": [
    "import tweepy\n",
    "\n",
    "consumer_key = 'd8Yr7sGwjJlSKS7Ij89oZJwyd'\n",
    "consumer_secret = 'oAFqzPQnJiqrxWYqlW6xes0WSUdbb5aPFd1qCHYC2cMKZYaBjk'\n",
    "access_token_key = '1001841856794243072-XbKn870ZqWDE7r8WDAk3F6Mzaj31rN'\n",
    "access_token_secret = 'lo6jJgDYu6piZL1iPjW15rwwvubyZlM5l12qvVb2CMmM0'\n",
    "\n",
    "auth = tweepy.OAuthHandler(consumer_key, consumer_secret)\n",
    "auth.set_access_token(access_token_key, access_token_secret)\n",
    "\n",
    "api = tweepy.API(auth)\n",
    "\n",
    "response = api.user_timeline(screen_name='barbaraanowacka', count=200)\n",
    "\n",
    "print(response)\n"
   ]
  },
  {
   "cell_type": "code",
   "execution_count": 30,
   "metadata": {},
   "outputs": [
    {
     "data": {
      "text/plain": [
       "'RT @rafa_lipski: Po obradach @inicjatywaPL oddział Warszawa 😀 omawialiśmy plany na IX kadencję Sejmu, a jest ich sporo 💪 https://t.co/zKcpm…'"
      ]
     },
     "execution_count": 30,
     "metadata": {},
     "output_type": "execute_result"
    }
   ],
   "source": [
    "r = response[0]\n",
    "\n",
    "r.user.id\n",
    "r.text"
   ]
  },
  {
   "cell_type": "code",
   "execution_count": 28,
   "metadata": {
    "collapsed": true
   },
   "outputs": [
    {
     "name": "stdout",
     "output_type": "stream",
     "text": [
      "[]\n['invitro']\n[]\n[]\n[]\n[]\n[]\n[]\n[]\n[]\n[]\n[]\n['StudioPolska']\n[]\n[]\n[]\n[]\n[]\n[]\n[]\n[]\n[]\n[]\n[]\n[]\n[]\n[]\n[]\n[]\n[]\n[]\n[]\n[]\n[]\n[]\n[]\n[]\n['BaskaTeam']\n[]\n[]\n['edukacjaseksualna']\n[]\n[]\n[]\n[]\n[]\n[]\n[]\n[]\n[]\n[]\n[]\n[]\n[]\n[]\n[]\n[]\n[]\n[]\n[]\n[]\n[]\n[]\n[]\n[]\n[]\n[]\n[]\n[]\n[]\n[]\n[]\n[]\n[]\n[]\n[]\n['BaskaTeam']\n[]\n[]\n[]\n[]\n[]\n[]\n[]\n[]\n[]\n[]\n[]\n['KoalicjaObywatelska']\n[]\n[]\n[]\n[]\n[]\n[]\n[]\n[]\n[]\n[]\n[]\n[]\n[]\n[]\n[]\n[]\n[]\n[]\n['KoalicjaObywatelska', 'AktywnaKampania', 'TulipanyDemokracji']\n['KoalicjaObywatelska', 'IdziemyNaWybory']\n[]\n[]\n['Sieradz']\n[]\n[]\n[]\n['BaskaTeam']\n[]\n[]\n[]\n[]\n['jestemLGBT']\n[]\n[]\n[]\n[]\n[]\n['BaskaTeam']\n[]\n[]\n[]\n[]\n[]\n[]\n[]\n[]\n[]\n[]\n['IdzemyNaWybory']\n[]\n[]\n[]\n['IdzNaWybory']\n['Gdańsk']\n[]\n[]\n[]\n['AktywnaKampania', 'KoalicjaObywatelska', 'BaskaTeam']\n['silnirazem', 'JutroMozeByćLepsze', 'IdzNaWybory']\n[]\n[]\n['wloskarobota', 'IdziemyNaWybory', 'KoalicjaObywatelska']\n[]\n[]\n[]\n['AktywnaKampania', 'KoalicjaObywatelska', 'IdzNaWybory']\n['KnŁ', 'PiS']\n[]\n[]\n[]\n[]\n[]\n[]\n['BaśkaTeam', 'JutroMozeByćLepsze', 'IdzNaWybory']\n[]\n[]\n[]\n[]\n[]\n['13października', 'KoalicjaObywatelska', 'IdźNaWybory']\n[]\n[]\n['IdzNaWybory']\n['KoalicjaObywatelska', 'IdzNaWybory']\n['KnŁ']\n[]\n['PiS', 'KnŁ']\n['baskateam', 'koalicjaobywatelska', 'IdzNaWybory']\n['StudioPolska']\n[]\n[]\n[]\n[]\n[]\n[]\n[]\n[]\n[]\n['AktywnaKampania']\n['aktywnakampania']\n['DebataZET']\n['DebataZET']\n['DebataZET']\n['DebataZET']\n[]\n[]\n[]\n[]\n[]\n[]\n[]\n"
     ]
    }
   ],
   "source": [
    "for s in response:\n",
    "    d = [x['text'] for x in s.entities['hashtags']]\n",
    "    print(d)"
   ]
  },
  {
   "cell_type": "code",
   "execution_count": 3,
   "metadata": {},
   "outputs": [
    {
     "name": "stderr",
     "output_type": "stream",
     "text": [
      "CRITICAL:root:twint.get:User:'NoneType' object is not subscriptable\n"
     ]
    },
    {
     "name": "stderr",
     "output_type": "stream",
     "text": [
      "CRITICAL:root:twint.feed:Follow:IndexError\n"
     ]
    },
    {
     "ename": "AttributeError",
     "evalue": "module 'twint.output' has no attribute 'user_object'",
     "traceback": [
      "\u001b[0;31m---------------------------------------------------------------------------\u001b[0m",
      "\u001b[0;31mAttributeError\u001b[0m                            Traceback (most recent call last)",
      "\u001b[0;32m<ipython-input-3-851b8cb79bac>\u001b[0m in \u001b[0;36m<module>\u001b[0;34m\u001b[0m\n\u001b[1;32m     12\u001b[0m \u001b[0;34m\u001b[0m\u001b[0m\n\u001b[1;32m     13\u001b[0m \u001b[0;31m# save them in a list\u001b[0m\u001b[0;34m\u001b[0m\u001b[0;34m\u001b[0m\u001b[0;34m\u001b[0m\u001b[0m\n\u001b[0;32m---> 14\u001b[0;31m \u001b[0mtarget_followers\u001b[0m \u001b[0;34m=\u001b[0m \u001b[0mtwint\u001b[0m\u001b[0;34m.\u001b[0m\u001b[0moutput\u001b[0m\u001b[0;34m.\u001b[0m\u001b[0muser_object\u001b[0m\u001b[0;34m\u001b[0m\u001b[0;34m\u001b[0m\u001b[0m\n\u001b[0m\u001b[1;32m     15\u001b[0m \u001b[0;34m\u001b[0m\u001b[0m\n\u001b[1;32m     16\u001b[0m \u001b[0;31m# iterate over them and save in a new list\u001b[0m\u001b[0;34m\u001b[0m\u001b[0;34m\u001b[0m\u001b[0;34m\u001b[0m\u001b[0m\n",
      "\u001b[0;31mAttributeError\u001b[0m: module 'twint.output' has no attribute 'user_object'"
     ],
     "output_type": "error"
    }
   ],
   "source": [
    ""
   ]
  },
  {
   "cell_type": "code",
   "execution_count": 1,
   "metadata": {},
   "outputs": [
    {
     "ename": "NameError",
     "evalue": "name 'twint' is not defined",
     "traceback": [
      "\u001b[0;31m---------------------------------------------------------------------------\u001b[0m",
      "\u001b[0;31mNameError\u001b[0m                                 Traceback (most recent call last)",
      "\u001b[0;32m<ipython-input-1-ca90beda8328>\u001b[0m in \u001b[0;36m<module>\u001b[0;34m\u001b[0m\n\u001b[0;32m----> 1\u001b[0;31m \u001b[0mtwint\u001b[0m\u001b[0;34m.\u001b[0m\u001b[0moutput\u001b[0m\u001b[0;34m.\u001b[0m\u001b[0muser_object\u001b[0m\u001b[0;34m\u001b[0m\u001b[0;34m\u001b[0m\u001b[0m\n\u001b[0m",
      "\u001b[0;31mNameError\u001b[0m: name 'twint' is not defined"
     ],
     "output_type": "error"
    }
   ],
   "source": [
    ""
   ]
  },
  {
   "cell_type": "code",
   "execution_count": null,
   "metadata": {},
   "outputs": [],
   "source": []
  }
 ],
 "metadata": {
  "kernelspec": {
   "display_name": "Python 2",
   "language": "python",
   "name": "python2"
  },
  "language_info": {
   "codemirror_mode": {
    "name": "ipython",
    "version": 2
   },
   "file_extension": ".py",
   "mimetype": "text/x-python",
   "name": "python",
   "nbconvert_exporter": "python",
   "pygments_lexer": "ipython2",
   "version": "2.7.6"
  }
 },
 "nbformat": 4,
 "nbformat_minor": 0
}
